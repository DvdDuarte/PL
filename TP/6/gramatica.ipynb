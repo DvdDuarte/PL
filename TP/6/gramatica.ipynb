{
 "cells": [
  {
   "cell_type": "markdown",
   "metadata": {},
   "source": [
    "Exemplo abstrato da língua pt :\n",
    "   - Frase : \"A aula está vazia\"\n",
    "   - Análise do léxico válido : [a-zA-Z]+\n",
    "   - Análise da semântica/estrutura gramatical : \n",
    "Sujeito : Aula\n",
    "   \tPred : Está vazia\n",
    "Exemplo da linguagem das soma e subtração\n",
    " \t- Frase: 1+2 1-2\n",
    " \t- lex :\n",
    "   - NUM:'[0-9]+'\n",
    "   - OP:'\\+' |'-'\n",
    " \t- gramática\n",
    "    Frase : NUM OP NUM\n",
    " - gramática\n",
    "    Frase : Elementos\n",
    "    Elementos : NUM OP NUM\n",
    "\n",
    "- Frase: 1+2+3\n",
    " 2+3-1\n",
    "- gramática\n",
    "Frase : Elementos\n",
    "Elementos : Elementos OP NUM\n",
    "         | NUM\n"
   ]
  }
 ],
 "metadata": {
  "language_info": {
   "name": "python"
  },
  "orig_nbformat": 4
 },
 "nbformat": 4,
 "nbformat_minor": 2
}
