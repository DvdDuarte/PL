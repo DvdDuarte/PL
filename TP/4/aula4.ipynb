{
 "cells": [
  {
   "cell_type": "code",
   "execution_count": null,
   "metadata": {},
   "outputs": [],
   "source": [
    "# sub\n",
    "import re\n",
    "#1234 -> numero\n",
    "r = re.sub(r'[0-9]+', \"numero\", '''1234 asd\n",
    "123456''')\n",
    "print(r)\n",
    "r1 = re.sub(r'(asd)(dsf)', r'\\2 \\1', \"asddsf\")\n",
    "print(r1)"
   ]
  },
  {
   "cell_type": "code",
   "execution_count": null,
   "metadata": {},
   "outputs": [],
   "source": [
    "import ply.lex as lex\n",
    "import sys\n",
    "\n",
    "# 1+2 1-2 1*2\n",
    "# ola mundo\n",
    "\n",
    "# for line in sys.stdin:\n",
    "#   lexer.input(line)\n",
    "#   for tok in lexer:\n",
    "#       print(tok)\n",
    "\n",
    "token=[\"NUM\",\"OPERADORES\"]\n",
    "\n",
    "t_NUM = '\\d+'\n",
    "t_OPERADORES = '[+|*|-]'\n",
    "\n",
    "t_ignore='\\n\\t'\n",
    "\n",
    "def t_error(t):\n",
    "    print(\"Erro\")\n",
    "    print(t)\n",
    "    skip(1)\n",
    "\n",
    "lexer = lex.lex()\n",
    "\n",
    "for line in sys.stdin:\n",
    "   lexer.input(line)\n",
    "   for tok in lexer:\n",
    "       print(tok)"
   ]
  },
  {
   "cell_type": "code",
   "execution_count": 61,
   "metadata": {},
   "outputs": [
    {
     "name": "stdout",
     "output_type": "stream",
     "text": [
      "# Aula de PL\n",
      "## Random\n",
      "### Observacoes\n",
      "\n",
      "   - teste foi ontem\n",
      "   - boas notas\n",
      "\n"
     ]
    }
   ],
   "source": [
    "# Ex 1\n",
    "import re \n",
    "file = open(\"ex1.txt\")\n",
    "for line in file:\n",
    "    r = re.sub(r'(\\\\title)','#',line)\n",
    "    r1 = re.sub(r'\\\\section',\"##\",r)\n",
    "    r2 = re.sub(r'\\\\subsection',\"###\",r1)\n",
    "    r3 = re.sub(r'\\\\\\\\begin{.*}', \"\",r2)\n",
    "    r4 = re.sub(r'\\\\item',\"-\",r3)\n",
    "    r5 = re.sub(r'\\\\end{.*}$', \"\", r4)\n",
    "    r6 = re.sub(r'(\\n+)',\"\",r5)\n",
    "    print(r6)\n"
   ]
  }
 ],
 "metadata": {
  "interpreter": {
   "hash": "308bd733750ba380a887f06d1dac96804506457855794b7254783890ee17588b"
  },
  "kernelspec": {
   "display_name": "Python 3.10.2 64-bit",
   "language": "python",
   "name": "python3"
  },
  "language_info": {
   "codemirror_mode": {
    "name": "ipython",
    "version": 3
   },
   "file_extension": ".py",
   "mimetype": "text/x-python",
   "name": "python",
   "nbconvert_exporter": "python",
   "pygments_lexer": "ipython3",
   "version": "3.8.10"
  },
  "orig_nbformat": 4
 },
 "nbformat": 4,
 "nbformat_minor": 2
}
